{
 "cells": [
  {
   "cell_type": "code",
   "execution_count": 1,
   "metadata": {},
   "outputs": [
    {
     "name": "stdout",
     "output_type": "stream",
     "text": [
      "Calls to be exercised 51 14\n",
      "Calls to be exercised 51 22\n",
      "Calls to be exercised 51 25\n",
      "Puts to be exercised 51 30\n",
      "Puts to be exercised 51 35\n",
      "Puts to be exercised 50 40\n",
      "Puts to be exercised 48 39\n",
      "Puts to be exercised 46 38\n",
      "Puts to be exercised 44 37\n",
      "Puts to be exercised 42 36\n",
      "Puts to be exercised 40 35\n",
      "Puts to be exercised 38 34\n",
      "Puts to be exercised 38 35\n",
      "Puts to be exercised 36 34\n",
      "Puts to be exercised 34 33\n",
      "Puts to be exercised 32 32\n",
      "13.37994509890907 13379.945098909038\n"
     ]
    }
   ],
   "source": [
    "import numpy as np\n",
    "import matplotlib.pyplot as plt\n",
    "import math\n",
    "\n",
    "if __name__ == '__main__':\n",
    "    # Set the total amount of week in a year\n",
    "    N = 52\n",
    "    # Create empty list of size N for both the upswing and downswing options\n",
    "    Call = np.zeros((N+1, N+1))\n",
    "    Put = np.zeros((N+1,N+1))\n",
    "    # Calculate all the possible gas prices in a given year with initial price at $1\n",
    "    # if they go up or down by a factor of 10% every week\n",
    "    S = np.array([1.1**(2*j - N) for j in range(N)])\n",
    "    Stock = np.zeros((N+1, N+1))\n",
    "    Stock[0,0] = 1\n",
    "    #Calculate all the possible stock prices at each position        \n",
    "    for i in range(1,N+1):\n",
    "        Stock[i,0] = (11/10) * Stock[i-1,0]\n",
    "                    \n",
    "        for j in range(1, i+1):\n",
    "            Stock[i,j] = (10/11) * Stock[i-1,j-1]\n",
    "    # Calculate each option price backwards        \n",
    "    for j in range(N+1):\n",
    "        Call[N,j] = max(0, Stock[N,j] -1)\n",
    "        Put[N,j] = max(0, 1 - Stock[N,j])\n",
    "    for i in range(N-1,-1,-1):\n",
    "        for j in range(i+1):\n",
    "            Call[i,j] =  (10/21)*Call[i+1,j] +(11/21)*Call[i+1,j+1]\n",
    "            if Call[i,j] < Stock[i,j]-1:\n",
    "                print('Calls to be exercised',i,j)\n",
    "                Call[i,j] = max(0, Stock[i,j] - 1)\n",
    "            Put[i,j] =  (10/21)*Put[i+1,j] +(11/21)*Put[i+1,j+1]\n",
    "            if Put[i,j] < 1 - Stock[i,j]:\n",
    "                print('Puts to be exercised',i,j)\n",
    "                Put[i,j] = max(0, 1-Stock[i,j])\n",
    "\n",
    "    print(50*Call[0,0], 50000 *Put[0,0])\n",
    "    "
   ]
  },
  {
   "cell_type": "code",
   "execution_count": null,
   "metadata": {},
   "outputs": [],
   "source": []
  },
  {
   "cell_type": "code",
   "execution_count": null,
   "metadata": {},
   "outputs": [],
   "source": []
  }
 ],
 "metadata": {
  "kernelspec": {
   "display_name": "Python 3",
   "language": "python",
   "name": "python3"
  },
  "language_info": {
   "codemirror_mode": {
    "name": "ipython",
    "version": 3
   },
   "file_extension": ".py",
   "mimetype": "text/x-python",
   "name": "python",
   "nbconvert_exporter": "python",
   "pygments_lexer": "ipython3",
   "version": "3.8.5"
  }
 },
 "nbformat": 4,
 "nbformat_minor": 4
}
